{
  "cells": [
    {
      "cell_type": "markdown",
      "metadata": {
        "id": "W8Xlk_nrgGrb"
      },
      "source": [
        "#### import libaries"
      ]
    },
    {
      "cell_type": "code",
      "execution_count": 110,
      "metadata": {
        "id": "7ZcMeV4QgGrg"
      },
      "outputs": [],
      "source": [
        "from sklearn.svm import SVC\n",
        "from sklearn.metrics import f1_score\n",
        "from sklearn.preprocessing import MinMaxScaler\n",
        "from sklearn.model_selection import train_test_split\n",
        "from sklearn.model_selection import StratifiedKFold\n",
        "from sklearn.neighbors import KNeighborsClassifier\n",
        "from sklearn.linear_model import LogisticRegression\n",
        "import numpy as np\n",
        "import pandas as pd\n",
        "import seaborn as sns\n",
        "from imblearn.over_sampling import SMOTE"
      ]
    },
    {
      "cell_type": "code",
      "execution_count": 111,
      "metadata": {
        "id": "769Zk1DvgGrj"
      },
      "outputs": [],
      "source": [
        "data = pd.read_csv('dataset.csv') #read the data to pd\n",
        "X = data.iloc[:,:-1].values #slice X features\n",
        "y = data.iloc[:,-1].values #slice wanted y to predict"
      ]
    },
    {
      "cell_type": "code",
      "execution_count": 112,
      "metadata": {
        "colab": {
          "base_uri": "https://localhost:8080/",
          "height": 351
        },
        "id": "DPp5CsODgGrl",
        "outputId": "392edfe4-d14f-4020-863e-a142febf55bc"
      },
      "outputs": [
        {
          "output_type": "stream",
          "name": "stderr",
          "text": [
            "/usr/local/lib/python3.7/dist-packages/seaborn/_decorators.py:43: FutureWarning: Pass the following variable as a keyword arg: x. From version 0.12, the only valid positional argument will be `data`, and passing other arguments without an explicit keyword will result in an error or misinterpretation.\n",
            "  FutureWarning\n"
          ]
        },
        {
          "output_type": "execute_result",
          "data": {
            "text/plain": [
              "<matplotlib.axes._subplots.AxesSubplot at 0x7f11171b6a10>"
            ]
          },
          "metadata": {},
          "execution_count": 112
        },
        {
          "output_type": "display_data",
          "data": {
            "image/png": "[encoded data removed]",
            "text/plain": [
              "<Figure size 432x288 with 1 Axes>"
            ]
          },
          "metadata": {
            "needs_background": "light"
          }
        }
      ],
      "source": [
        "sns.countplot(data['Purchased']) #data doesn't has balance. "
      ]
    },
    {
      "cell_type": "markdown",
      "source": [
        "Balance The data by using Synthetic Minority Oversampling Technique (SMOTE)"
      ],
      "metadata": {
        "id": "vrfxeIWxy5W7"
      }
    },
    {
      "cell_type": "code",
      "execution_count": 113,
      "metadata": {
        "id": "nXrAjc6xgGrk"
      },
      "outputs": [],
      "source": [
        "smote = SMOTE()\n",
        "X,y = smote.fit_resample(X, y) #fit predictor and target variable"
      ]
    },
    {
      "cell_type": "code",
      "execution_count": 114,
      "metadata": {
        "id": "Qejza6ZSgGrl"
      },
      "outputs": [],
      "source": [
        "mm_x = MinMaxScaler() #for scaling the data"
      ]
    },
    {
      "cell_type": "markdown",
      "metadata": {
        "id": "OFdLH1aUgGrm"
      },
      "source": [
        "### Function to measure the models."
      ]
    },
    {
      "cell_type": "code",
      "execution_count": 115,
      "metadata": {
        "id": "eT_RNxw1gGrn"
      },
      "outputs": [],
      "source": [
        "def measuring_metrics(f1,checked_parmeter):\n",
        "    result_table={}\n",
        "    result_table[\"checked parmeter\"] = np.array(checked_parmeter)\n",
        "    result_table[\"f1 mean score\"] = np.array(np.mean(f1, axis=0)) #calculate f1 mean\n",
        "    result_table[\"f1 std score\"] = np.array(np.std(f1, axis=0)) #calculate f1 std\n",
        "    result_table = pd.DataFrame(result_table)\n",
        "    search_best_param = np.mean(f1, axis=0).argmax() #lock the best param\n",
        "    print(result_table)\n",
        "    print(\"The best parameter accroding to f1 measure metric is: \" + str(checked_parmeter[search_best_param]))"
      ]
    },
    {
      "cell_type": "markdown",
      "metadata": {
        "id": "4lls-UwIgGro"
      },
      "source": [
        "## Functions for all the models separately "
      ]
    },
    {
      "cell_type": "markdown",
      "metadata": {
        "id": "3L2xuPXjgGro"
      },
      "source": [
        "#### K-nn (based on Euclidian distance)"
      ]
    },
    {
      "cell_type": "code",
      "execution_count": 116,
      "metadata": {
        "colab": {
          "base_uri": "https://localhost:8080/"
        },
        "id": "RjTgSf1CgGrp",
        "outputId": "ddb3484e-9c78-4942-e1de-b10952cc3bcb"
      },
      "outputs": [
        {
          "output_type": "stream",
          "name": "stdout",
          "text": [
            "K-NN metrics results:\n",
            "    checked parmeter  f1 mean score  f1 std score\n",
            "0                  1       0.883984      0.030902\n",
            "1                  2       0.884032      0.030847\n",
            "2                  3       0.897284      0.028802\n",
            "3                  4       0.898190      0.029635\n",
            "4                  5       0.906749      0.028402\n",
            "5                  6       0.904616      0.028679\n",
            "6                  7       0.908514      0.028027\n",
            "7                  8       0.903361      0.028734\n",
            "8                  9       0.905630      0.028677\n",
            "9                 10       0.900674      0.029114\n",
            "10                11       0.902488      0.029313\n",
            "11                12       0.898198      0.029277\n",
            "12                13       0.899539      0.029155\n",
            "13                14       0.894528      0.030204\n",
            "14                15       0.896665      0.029644\n",
            "15                16       0.891176      0.030299\n",
            "16                17       0.892284      0.029814\n",
            "17                18       0.887150      0.030123\n",
            "18                19       0.890480      0.029766\n",
            "19                20       0.887203      0.030357\n",
            "The best parameter accroding to f1 measure metric is: 7\n"
          ]
        }
      ],
      "source": [
        "def K_nn(X,y):\n",
        "    f1 = np.zeros((1000,20))\n",
        "    for state_num in range(0,1000,1):\n",
        "        X_train, X_test, y_train, y_test = train_test_split(X, y, test_size=0.1, random_state=state_num)\n",
        "        for k_checked in range(1,21,1):\n",
        "            X_train = mm_x.fit_transform(X_train)\n",
        "            X_test = mm_x.fit_transform(X_test)\n",
        "            model = KNeighborsClassifier(n_neighbors=k_checked ,p=2)\n",
        "            model.fit(X_train, y_train)\n",
        "            y_pred = model.predict(X_test)\n",
        "            f1[state_num,k_checked-1]=f1_score(y_test, y_pred, average=None)[1]\n",
        "    measuring_metrics(f1,np.arange(1,21,1))\n",
        "    return\n",
        "print('K-NN metrics results:')\n",
        "K_nn(X,y)"
      ]
    },
    {
      "cell_type": "markdown",
      "metadata": {
        "id": "2OZE6MM8gGrq"
      },
      "source": [
        "**bold text**#### Logistic regression "
      ]
    },
    {
      "cell_type": "code",
      "execution_count": 117,
      "metadata": {
        "colab": {
          "base_uri": "https://localhost:8080/"
        },
        "id": "vHdtcPccgGrq",
        "outputId": "c0124067-22fa-4bf1-aa8c-8cd470bf929d"
      },
      "outputs": [
        {
          "output_type": "stream",
          "name": "stdout",
          "text": [
            "Logistic regression metrics results:\n",
            "f1 mean score is: \t0.7704844465541305\n",
            "f1 std score is: \t0.041826989019292125\n"
          ]
        }
      ],
      "source": [
        "def logistic_regression(X,y):\n",
        "    f1= np.zeros((1000,1))\n",
        "    for state_num in range(0,1000,1):\n",
        "        X_train, X_test, y_train, y_test = train_test_split(X, y, test_size = 0.1, random_state = state_num)\n",
        "        X_train = mm_x.fit_transform(X_train)\n",
        "        X_test = mm_x.fit_transform(X_test)\n",
        "        LR = LogisticRegression()\n",
        "        model = LR.fit(X_train, y_train)\n",
        "        y_pred = model.predict(X_test)\n",
        "        f1[state_num]=f1_score(y_test, y_pred, average=None)[1]\n",
        "    print (\"f1 mean score is: \" + '\\t' + str(np.mean(f1)))\n",
        "    print (\"f1 std score is: \" +  '\\t' + str(np.std(f1)))\n",
        "    return\n",
        "print('Logistic regression metrics results:')\n",
        "logistic_regression(X,y)"
      ]
    },
    {
      "cell_type": "markdown",
      "metadata": {
        "id": "7Kelitc9gGrq"
      },
      "source": [
        "#### Linear SVC "
      ]
    },
    {
      "cell_type": "code",
      "execution_count": 118,
      "metadata": {
        "colab": {
          "base_uri": "https://localhost:8080/"
        },
        "id": "r07Iuy7UgGrr",
        "outputId": "2927b16e-2788-44a1-9fde-5932bd04fd3c"
      },
      "outputs": [
        {
          "output_type": "stream",
          "name": "stdout",
          "text": [
            "Linear SVC metrics results:\n",
            "f1 mean score is:\t0.773735895887535\n",
            "f1 std score is:\t0.04153231561358645\n"
          ]
        }
      ],
      "source": [
        "def linear_SVC(X ,y):\n",
        "    f1= np.zeros((1000))\n",
        "    for state_num in range(0,1000,1):\n",
        "        X_train, X_test, y_train, y_test = train_test_split(X, y, test_size = 0.1, random_state = state_num)\n",
        "        X_train = mm_x.fit_transform(X_train)\n",
        "        X_test = mm_x.fit_transform(X_test)\n",
        "        model = SVC(kernel =\"linear\")\n",
        "        model.fit(X_train, y_train)\n",
        "        y_pred = model.predict(X_test)\n",
        "        f1[state_num]=f1_score(y_test, y_pred, average=None)[1]\n",
        "    print( \"f1 mean score is:\" + '\\t' + str(np.mean(f1)))\n",
        "    print( \"f1 std score is:\" + '\\t' + str(np.std(f1)))\n",
        "    return\n",
        "print('Linear SVC metrics results:')\n",
        "linear_SVC(X,y)"
      ]
    },
    {
      "cell_type": "markdown",
      "metadata": {
        "id": "FSWYDNUPgGrr"
      },
      "source": [
        "#### Polynomial SVC "
      ]
    },
    {
      "cell_type": "code",
      "execution_count": 121,
      "metadata": {
        "colab": {
          "base_uri": "https://localhost:8080/"
        },
        "id": "imq8PgJmgGrr",
        "outputId": "388a37c2-c71f-4edd-bf01-9c59c2808ecf"
      },
      "outputs": [
        {
          "output_type": "stream",
          "name": "stdout",
          "text": [
            "Polynomial SVC metrics results:\n",
            "   checked parmeter  f1 mean score  f1 std score\n",
            "0                 2       0.773750      0.042130\n",
            "1                 3       0.769380      0.042325\n",
            "2                 4       0.760998      0.044000\n",
            "3                 5       0.766425      0.042681\n",
            "The best parameter accroding to f1 measure metric is: 2\n"
          ]
        }
      ],
      "source": [
        "def Polynomial_SVC(X,y):\n",
        "    f1= np.zeros((1000,4))\n",
        "    for state_num in range(0,1000,1):\n",
        "        X_train, X_test, y_train, y_test = train_test_split(X, y, test_size = 0.1, random_state = state_num)\n",
        "        X_train = mm_x.fit_transform(X_train)\n",
        "        X_test = mm_x.fit_transform(X_test)\n",
        "        for deg in range(2,6,1):\n",
        "            model = SVC(kernel =\"poly\", degree = deg)\n",
        "            model.fit(X_train, y_train)\n",
        "            y_pred = model.predict(X_test)\n",
        "            f1[state_num,deg-2]= f1_score(y_test, y_pred, average=None)[1]\n",
        "    measuring_metrics(f1,np.arange(2,6,1))\n",
        "    return\n",
        "print('Polynomial SVC metrics results:')\n",
        "Polynomial_SVC(X,y)"
      ]
    },
    {
      "cell_type": "markdown",
      "metadata": {
        "id": "mjX_Iz3YgGrs"
      },
      "source": [
        "#### Gaussian SVC "
      ]
    },
    {
      "cell_type": "code",
      "execution_count": 120,
      "metadata": {
        "colab": {
          "base_uri": "https://localhost:8080/"
        },
        "id": "p3NnZrWvgGrs",
        "outputId": "f7411654-b604-408e-d5ff-171faeafad11"
      },
      "outputs": [
        {
          "output_type": "stream",
          "name": "stdout",
          "text": [
            "Gaussian SVC metrics results:\n",
            "   checked parmeter  f1 mean score  f1 std score\n",
            "0               0.2       0.844165      0.035090\n",
            "1               0.5       0.865536      0.032464\n",
            "2               1.2       0.875636      0.031463\n",
            "3               1.8       0.879262      0.030893\n",
            "4               3.0       0.886652      0.030726\n",
            "The best parameter accroding to f1 measure metric is: 3\n"
          ]
        }
      ],
      "source": [
        "def Gaussian_SVC(X,y):\n",
        "    f1= np.zeros((1000,5))\n",
        "    for state_num in range(0,1000,1):\n",
        "        X_train, X_test, y_train, y_test = train_test_split(X, y, test_size = 0.1, random_state = state_num)\n",
        "        X_train = mm_x.fit_transform(X_train)\n",
        "        X_test = mm_x.fit_transform(X_test)\n",
        "        for c in (0.2 , 0.5 , 1.2 ,1.8 ,3):\n",
        "            model = SVC(C=c) #rbf as defualt\n",
        "            model.fit(X_train, y_train)\n",
        "            y_pred = model.predict(X_test)\n",
        "            f1[state_num,(0.2 , 0.5 , 1.2 ,1.8 ,3).index(c)]= f1_score(y_test, y_pred, average=None)[1]\n",
        "    measuring_metrics(f1,(0.2 , 0.5 , 1.2 ,1.8 ,3))\n",
        "    return \n",
        "print('Gaussian SVC metrics results:')\n",
        "Gaussian_SVC(X,y)"
      ]
    }
  ],
  "metadata": {
    "kernelspec": {
      "display_name": "Python 3",
      "language": "python",
      "name": "python3"
    },
    "language_info": {
      "codemirror_mode": {
        "name": "ipython",
        "version": 3
      },
      "file_extension": ".py",
      "mimetype": "text/x-python",
      "name": "python",
      "nbconvert_exporter": "python",
      "pygments_lexer": "ipython3",
      "version": "3.8.5"
    },
    "colab": {
      "name": "matla4_Classification .ipynb",
      "provenance": [],
      "collapsed_sections": []
    }
  },
  "nbformat": 4,
  "nbformat_minor": 0
}